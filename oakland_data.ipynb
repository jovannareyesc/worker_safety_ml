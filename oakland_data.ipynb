{
 "cells": [
  {
   "cell_type": "code",
   "execution_count": 302,
   "id": "initial_id",
   "metadata": {
    "ExecuteTime": {
     "end_time": "2025-06-16T06:33:33.302843Z",
     "start_time": "2025-06-16T06:33:33.289558Z"
    },
    "collapsed": true,
    "jupyter": {
     "outputs_hidden": true
    }
   },
   "outputs": [],
   "source": [
    "# OAKLAND CRIME DATA\n",
    "# This notebook is utilized for the manipulation and visualization through heatmapping in the city of Oakland, CA—known for its high-crime rates.\n",
    "# The data being used comes directly from the city of Oakland's website and maps the crime during the past 90-days.\n",
    "# As of today Jun 15, 2025, this data is then from March 2025."
   ]
  },
  {
   "cell_type": "code",
   "execution_count": 303,
   "id": "3eb7a129af003be",
   "metadata": {
    "ExecuteTime": {
     "end_time": "2025-06-16T06:33:33.320769Z",
     "start_time": "2025-06-16T06:33:33.318674Z"
    }
   },
   "outputs": [],
   "source": [
    "import pandas as pd\n",
    "import numpy as np\n",
    "import seaborn as sns\n",
    "import matplotlib as plt"
   ]
  },
  {
   "cell_type": "code",
   "execution_count": 304,
   "id": "7ef10c90e379b2aa",
   "metadata": {
    "ExecuteTime": {
     "end_time": "2025-06-16T06:33:33.371074Z",
     "start_time": "2025-06-16T06:33:33.338161Z"
    }
   },
   "outputs": [
    {
     "data": {
      "text/html": [
       "<div>\n",
       "<style scoped>\n",
       "    .dataframe tbody tr th:only-of-type {\n",
       "        vertical-align: middle;\n",
       "    }\n",
       "\n",
       "    .dataframe tbody tr th {\n",
       "        vertical-align: top;\n",
       "    }\n",
       "\n",
       "    .dataframe thead th {\n",
       "        text-align: right;\n",
       "    }\n",
       "</style>\n",
       "<table border=\"1\" class=\"dataframe\">\n",
       "  <thead>\n",
       "    <tr style=\"text-align: right;\">\n",
       "      <th></th>\n",
       "      <th>CRIMETYPE</th>\n",
       "      <th>DATETIME</th>\n",
       "      <th>CASENUMBER</th>\n",
       "      <th>DESCRIPTION</th>\n",
       "      <th>POLICEBEAT</th>\n",
       "      <th>ADDRESS</th>\n",
       "      <th>CITY</th>\n",
       "      <th>STATE</th>\n",
       "      <th>Location</th>\n",
       "    </tr>\n",
       "  </thead>\n",
       "  <tbody>\n",
       "    <tr>\n",
       "      <th>0</th>\n",
       "      <td>VANDALISM</td>\n",
       "      <td>03/17/2025 02:10:00 PM</td>\n",
       "      <td>25-012120</td>\n",
       "      <td>VANDALISM-$400+</td>\n",
       "      <td>77X</td>\n",
       "      <td>8TH AVE AND CLINTO LN</td>\n",
       "      <td>Oakland</td>\n",
       "      <td>CA</td>\n",
       "      <td>NaN</td>\n",
       "    </tr>\n",
       "    <tr>\n",
       "      <th>1</th>\n",
       "      <td>PETTY THEFT</td>\n",
       "      <td>03/17/2025 07:00:00 AM</td>\n",
       "      <td>25-012218</td>\n",
       "      <td>THEFT</td>\n",
       "      <td>30X</td>\n",
       "      <td>2427 68TH AV</td>\n",
       "      <td>Oakland</td>\n",
       "      <td>CA</td>\n",
       "      <td>POINT (-122.18566 37.76508)</td>\n",
       "    </tr>\n",
       "    <tr>\n",
       "      <th>2</th>\n",
       "      <td>PETTY THEFT</td>\n",
       "      <td>04/07/2025 12:00:00 AM</td>\n",
       "      <td>25-012374</td>\n",
       "      <td>THEFT</td>\n",
       "      <td>77X</td>\n",
       "      <td>UNKNOWN</td>\n",
       "      <td>Oakland</td>\n",
       "      <td>CA</td>\n",
       "      <td>NaN</td>\n",
       "    </tr>\n",
       "    <tr>\n",
       "      <th>3</th>\n",
       "      <td>PETTY THEFT</td>\n",
       "      <td>03/19/2025 11:30:00 PM</td>\n",
       "      <td>25-012505</td>\n",
       "      <td>THEFT</td>\n",
       "      <td>26X</td>\n",
       "      <td>789 54TH AV</td>\n",
       "      <td>Oakland</td>\n",
       "      <td>CA</td>\n",
       "      <td>POINT (-122.2106 37.76353)</td>\n",
       "    </tr>\n",
       "    <tr>\n",
       "      <th>4</th>\n",
       "      <td>PETTY THEFT</td>\n",
       "      <td>03/18/2025 12:00:00 PM</td>\n",
       "      <td>25-012784</td>\n",
       "      <td>THEFT</td>\n",
       "      <td>20X</td>\n",
       "      <td>3020 E 18TH ST</td>\n",
       "      <td>Oakland</td>\n",
       "      <td>CA</td>\n",
       "      <td>POINT (-122.22443 37.78225)</td>\n",
       "    </tr>\n",
       "    <tr>\n",
       "      <th>...</th>\n",
       "      <td>...</td>\n",
       "      <td>...</td>\n",
       "      <td>...</td>\n",
       "      <td>...</td>\n",
       "      <td>...</td>\n",
       "      <td>...</td>\n",
       "      <td>...</td>\n",
       "      <td>...</td>\n",
       "      <td>...</td>\n",
       "    </tr>\n",
       "    <tr>\n",
       "      <th>11212</th>\n",
       "      <td>ROBBERY</td>\n",
       "      <td>03/26/2025 07:52:00 PM</td>\n",
       "      <td>25-013538</td>\n",
       "      <td>ROBBERY - STRONG ARM (HANDS, FISTS, FEET, ETC.)</td>\n",
       "      <td>23X</td>\n",
       "      <td>4108 INTERNATIONAL BLVD</td>\n",
       "      <td>Oakland</td>\n",
       "      <td>CA</td>\n",
       "      <td>POINT (-122.21636 37.77357)</td>\n",
       "    </tr>\n",
       "    <tr>\n",
       "      <th>11213</th>\n",
       "      <td>DOMESTIC VIOLENCE</td>\n",
       "      <td>05/31/2025 12:00:00 PM</td>\n",
       "      <td>25-023804</td>\n",
       "      <td>BATTERY:SPOUSE/EX SPOUSE/DATE/ETC</td>\n",
       "      <td>11X</td>\n",
       "      <td>5700 CARBERRY AV</td>\n",
       "      <td>Oakland</td>\n",
       "      <td>CA</td>\n",
       "      <td>POINT (-122.26244 37.84323)</td>\n",
       "    </tr>\n",
       "    <tr>\n",
       "      <th>11214</th>\n",
       "      <td>STOLEN VEHICLE</td>\n",
       "      <td>05/30/2025 12:00:00 AM</td>\n",
       "      <td>25-023687</td>\n",
       "      <td>VEHICLE THEFT - AUTO</td>\n",
       "      <td>08X</td>\n",
       "      <td>2800 VALDEZ ST</td>\n",
       "      <td>Oakland</td>\n",
       "      <td>CA</td>\n",
       "      <td>POINT (-122.26213 37.81694)</td>\n",
       "    </tr>\n",
       "    <tr>\n",
       "      <th>11215</th>\n",
       "      <td>STOLEN VEHICLE</td>\n",
       "      <td>04/12/2025 02:11:00 PM</td>\n",
       "      <td>25-016263</td>\n",
       "      <td>VEHICLE THEFT - AUTO</td>\n",
       "      <td>31Y</td>\n",
       "      <td>7825 SAN LEANDRO ST</td>\n",
       "      <td>Oakland</td>\n",
       "      <td>CA</td>\n",
       "      <td>POINT (-122.19408 37.75015)</td>\n",
       "    </tr>\n",
       "    <tr>\n",
       "      <th>11216</th>\n",
       "      <td>WEAPONS</td>\n",
       "      <td>05/15/2025 02:50:00 PM</td>\n",
       "      <td>25-021416</td>\n",
       "      <td>CARRY CONCEALED WEAPON ON PERSON</td>\n",
       "      <td>19X</td>\n",
       "      <td>2100 INTERNATIONAL BLVD</td>\n",
       "      <td>Oakland</td>\n",
       "      <td>CA</td>\n",
       "      <td>POINT (-122.23877 37.78511)</td>\n",
       "    </tr>\n",
       "  </tbody>\n",
       "</table>\n",
       "<p>11217 rows × 9 columns</p>\n",
       "</div>"
      ],
      "text/plain": [
       "               CRIMETYPE                DATETIME CASENUMBER  \\\n",
       "0              VANDALISM  03/17/2025 02:10:00 PM  25-012120   \n",
       "1            PETTY THEFT  03/17/2025 07:00:00 AM  25-012218   \n",
       "2            PETTY THEFT  04/07/2025 12:00:00 AM  25-012374   \n",
       "3            PETTY THEFT  03/19/2025 11:30:00 PM  25-012505   \n",
       "4            PETTY THEFT  03/18/2025 12:00:00 PM  25-012784   \n",
       "...                  ...                     ...        ...   \n",
       "11212            ROBBERY  03/26/2025 07:52:00 PM  25-013538   \n",
       "11213  DOMESTIC VIOLENCE  05/31/2025 12:00:00 PM  25-023804   \n",
       "11214     STOLEN VEHICLE  05/30/2025 12:00:00 AM  25-023687   \n",
       "11215     STOLEN VEHICLE  04/12/2025 02:11:00 PM  25-016263   \n",
       "11216            WEAPONS  05/15/2025 02:50:00 PM  25-021416   \n",
       "\n",
       "                                           DESCRIPTION POLICEBEAT  \\\n",
       "0                                      VANDALISM-$400+        77X   \n",
       "1                                                THEFT        30X   \n",
       "2                                                THEFT        77X   \n",
       "3                                                THEFT        26X   \n",
       "4                                                THEFT        20X   \n",
       "...                                                ...        ...   \n",
       "11212  ROBBERY - STRONG ARM (HANDS, FISTS, FEET, ETC.)        23X   \n",
       "11213                BATTERY:SPOUSE/EX SPOUSE/DATE/ETC        11X   \n",
       "11214                             VEHICLE THEFT - AUTO        08X   \n",
       "11215                             VEHICLE THEFT - AUTO        31Y   \n",
       "11216                 CARRY CONCEALED WEAPON ON PERSON        19X   \n",
       "\n",
       "                       ADDRESS     CITY STATE                     Location  \n",
       "0        8TH AVE AND CLINTO LN  Oakland    CA                          NaN  \n",
       "1                 2427 68TH AV  Oakland    CA  POINT (-122.18566 37.76508)  \n",
       "2                      UNKNOWN  Oakland    CA                          NaN  \n",
       "3                  789 54TH AV  Oakland    CA   POINT (-122.2106 37.76353)  \n",
       "4               3020 E 18TH ST  Oakland    CA  POINT (-122.22443 37.78225)  \n",
       "...                        ...      ...   ...                          ...  \n",
       "11212  4108 INTERNATIONAL BLVD  Oakland    CA  POINT (-122.21636 37.77357)  \n",
       "11213         5700 CARBERRY AV  Oakland    CA  POINT (-122.26244 37.84323)  \n",
       "11214           2800 VALDEZ ST  Oakland    CA  POINT (-122.26213 37.81694)  \n",
       "11215      7825 SAN LEANDRO ST  Oakland    CA  POINT (-122.19408 37.75015)  \n",
       "11216  2100 INTERNATIONAL BLVD  Oakland    CA  POINT (-122.23877 37.78511)  \n",
       "\n",
       "[11217 rows x 9 columns]"
      ]
     },
     "execution_count": 304,
     "metadata": {},
     "output_type": "execute_result"
    }
   ],
   "source": [
    "# Importing the data\n",
    "df = pd.read_csv('/Users/jovannareyes/Downloads/CrimeWatch_Maps_Past_90-Days_20250615.csv')\n",
    "df"
   ]
  },
  {
   "cell_type": "code",
   "execution_count": 305,
   "id": "feab4dead9dc7dba",
   "metadata": {
    "ExecuteTime": {
     "end_time": "2025-06-16T06:33:33.414795Z",
     "start_time": "2025-06-16T06:33:33.407165Z"
    }
   },
   "outputs": [
    {
     "data": {
      "text/html": [
       "<div>\n",
       "<style scoped>\n",
       "    .dataframe tbody tr th:only-of-type {\n",
       "        vertical-align: middle;\n",
       "    }\n",
       "\n",
       "    .dataframe tbody tr th {\n",
       "        vertical-align: top;\n",
       "    }\n",
       "\n",
       "    .dataframe thead th {\n",
       "        text-align: right;\n",
       "    }\n",
       "</style>\n",
       "<table border=\"1\" class=\"dataframe\">\n",
       "  <thead>\n",
       "    <tr style=\"text-align: right;\">\n",
       "      <th></th>\n",
       "      <th>CRIMETYPE</th>\n",
       "      <th>DATETIME</th>\n",
       "      <th>Location</th>\n",
       "    </tr>\n",
       "  </thead>\n",
       "  <tbody>\n",
       "    <tr>\n",
       "      <th>0</th>\n",
       "      <td>VANDALISM</td>\n",
       "      <td>03/17/2025 02:10:00 PM</td>\n",
       "      <td>NaN</td>\n",
       "    </tr>\n",
       "    <tr>\n",
       "      <th>1</th>\n",
       "      <td>PETTY THEFT</td>\n",
       "      <td>03/17/2025 07:00:00 AM</td>\n",
       "      <td>POINT (-122.18566 37.76508)</td>\n",
       "    </tr>\n",
       "    <tr>\n",
       "      <th>2</th>\n",
       "      <td>PETTY THEFT</td>\n",
       "      <td>04/07/2025 12:00:00 AM</td>\n",
       "      <td>NaN</td>\n",
       "    </tr>\n",
       "    <tr>\n",
       "      <th>3</th>\n",
       "      <td>PETTY THEFT</td>\n",
       "      <td>03/19/2025 11:30:00 PM</td>\n",
       "      <td>POINT (-122.2106 37.76353)</td>\n",
       "    </tr>\n",
       "    <tr>\n",
       "      <th>4</th>\n",
       "      <td>PETTY THEFT</td>\n",
       "      <td>03/18/2025 12:00:00 PM</td>\n",
       "      <td>POINT (-122.22443 37.78225)</td>\n",
       "    </tr>\n",
       "    <tr>\n",
       "      <th>...</th>\n",
       "      <td>...</td>\n",
       "      <td>...</td>\n",
       "      <td>...</td>\n",
       "    </tr>\n",
       "    <tr>\n",
       "      <th>11212</th>\n",
       "      <td>ROBBERY</td>\n",
       "      <td>03/26/2025 07:52:00 PM</td>\n",
       "      <td>POINT (-122.21636 37.77357)</td>\n",
       "    </tr>\n",
       "    <tr>\n",
       "      <th>11213</th>\n",
       "      <td>DOMESTIC VIOLENCE</td>\n",
       "      <td>05/31/2025 12:00:00 PM</td>\n",
       "      <td>POINT (-122.26244 37.84323)</td>\n",
       "    </tr>\n",
       "    <tr>\n",
       "      <th>11214</th>\n",
       "      <td>STOLEN VEHICLE</td>\n",
       "      <td>05/30/2025 12:00:00 AM</td>\n",
       "      <td>POINT (-122.26213 37.81694)</td>\n",
       "    </tr>\n",
       "    <tr>\n",
       "      <th>11215</th>\n",
       "      <td>STOLEN VEHICLE</td>\n",
       "      <td>04/12/2025 02:11:00 PM</td>\n",
       "      <td>POINT (-122.19408 37.75015)</td>\n",
       "    </tr>\n",
       "    <tr>\n",
       "      <th>11216</th>\n",
       "      <td>WEAPONS</td>\n",
       "      <td>05/15/2025 02:50:00 PM</td>\n",
       "      <td>POINT (-122.23877 37.78511)</td>\n",
       "    </tr>\n",
       "  </tbody>\n",
       "</table>\n",
       "<p>11217 rows × 3 columns</p>\n",
       "</div>"
      ],
      "text/plain": [
       "               CRIMETYPE                DATETIME                     Location\n",
       "0              VANDALISM  03/17/2025 02:10:00 PM                          NaN\n",
       "1            PETTY THEFT  03/17/2025 07:00:00 AM  POINT (-122.18566 37.76508)\n",
       "2            PETTY THEFT  04/07/2025 12:00:00 AM                          NaN\n",
       "3            PETTY THEFT  03/19/2025 11:30:00 PM   POINT (-122.2106 37.76353)\n",
       "4            PETTY THEFT  03/18/2025 12:00:00 PM  POINT (-122.22443 37.78225)\n",
       "...                  ...                     ...                          ...\n",
       "11212            ROBBERY  03/26/2025 07:52:00 PM  POINT (-122.21636 37.77357)\n",
       "11213  DOMESTIC VIOLENCE  05/31/2025 12:00:00 PM  POINT (-122.26244 37.84323)\n",
       "11214     STOLEN VEHICLE  05/30/2025 12:00:00 AM  POINT (-122.26213 37.81694)\n",
       "11215     STOLEN VEHICLE  04/12/2025 02:11:00 PM  POINT (-122.19408 37.75015)\n",
       "11216            WEAPONS  05/15/2025 02:50:00 PM  POINT (-122.23877 37.78511)\n",
       "\n",
       "[11217 rows x 3 columns]"
      ]
     },
     "execution_count": 305,
     "metadata": {},
     "output_type": "execute_result"
    }
   ],
   "source": [
    "# Eliminating columns that are redundant to the project such as the 'casenumber', 'policebeat', 'address', 'description' 'city', and 'state' columns and updating the dataframe\n",
    "# Addresses in this case are not really needed as therein lies more precision in coordinates.\n",
    "todrop = ['CASENUMBER', 'CITY', 'STATE', 'POLICEBEAT', 'ADDRESS', 'DESCRIPTION']\n",
    "df = df.drop(todrop, axis=1)\n",
    "df"
   ]
  },
  {
   "cell_type": "code",
   "execution_count": 306,
   "id": "8292dd61d6f90b3a",
   "metadata": {
    "ExecuteTime": {
     "end_time": "2025-06-16T06:33:33.470600Z",
     "start_time": "2025-06-16T06:33:33.468169Z"
    }
   },
   "outputs": [
    {
     "data": {
      "text/plain": [
       "(11217, 3)"
      ]
     },
     "execution_count": 306,
     "metadata": {},
     "output_type": "execute_result"
    }
   ],
   "source": [
    "# checking for size of data\n",
    "df.shape"
   ]
  },
  {
   "cell_type": "code",
   "execution_count": 307,
   "id": "6b27fa16904751d",
   "metadata": {
    "ExecuteTime": {
     "end_time": "2025-06-16T06:33:33.577926Z",
     "start_time": "2025-06-16T06:33:33.573481Z"
    }
   },
   "outputs": [
    {
     "data": {
      "text/html": [
       "<div>\n",
       "<style scoped>\n",
       "    .dataframe tbody tr th:only-of-type {\n",
       "        vertical-align: middle;\n",
       "    }\n",
       "\n",
       "    .dataframe tbody tr th {\n",
       "        vertical-align: top;\n",
       "    }\n",
       "\n",
       "    .dataframe thead th {\n",
       "        text-align: right;\n",
       "    }\n",
       "</style>\n",
       "<table border=\"1\" class=\"dataframe\">\n",
       "  <thead>\n",
       "    <tr style=\"text-align: right;\">\n",
       "      <th></th>\n",
       "      <th>DATETIME</th>\n",
       "      <th>Location</th>\n",
       "    </tr>\n",
       "    <tr>\n",
       "      <th>CRIMETYPE</th>\n",
       "      <th></th>\n",
       "      <th></th>\n",
       "    </tr>\n",
       "  </thead>\n",
       "  <tbody>\n",
       "    <tr>\n",
       "      <th>VANDALISM</th>\n",
       "      <td>03/17/2025 02:10:00 PM</td>\n",
       "      <td>NaN</td>\n",
       "    </tr>\n",
       "    <tr>\n",
       "      <th>PETTY THEFT</th>\n",
       "      <td>03/17/2025 07:00:00 AM</td>\n",
       "      <td>POINT (-122.18566 37.76508)</td>\n",
       "    </tr>\n",
       "    <tr>\n",
       "      <th>PETTY THEFT</th>\n",
       "      <td>04/07/2025 12:00:00 AM</td>\n",
       "      <td>NaN</td>\n",
       "    </tr>\n",
       "    <tr>\n",
       "      <th>PETTY THEFT</th>\n",
       "      <td>03/19/2025 11:30:00 PM</td>\n",
       "      <td>POINT (-122.2106 37.76353)</td>\n",
       "    </tr>\n",
       "    <tr>\n",
       "      <th>PETTY THEFT</th>\n",
       "      <td>03/18/2025 12:00:00 PM</td>\n",
       "      <td>POINT (-122.22443 37.78225)</td>\n",
       "    </tr>\n",
       "    <tr>\n",
       "      <th>...</th>\n",
       "      <td>...</td>\n",
       "      <td>...</td>\n",
       "    </tr>\n",
       "    <tr>\n",
       "      <th>ROBBERY</th>\n",
       "      <td>03/26/2025 07:52:00 PM</td>\n",
       "      <td>POINT (-122.21636 37.77357)</td>\n",
       "    </tr>\n",
       "    <tr>\n",
       "      <th>DOMESTIC VIOLENCE</th>\n",
       "      <td>05/31/2025 12:00:00 PM</td>\n",
       "      <td>POINT (-122.26244 37.84323)</td>\n",
       "    </tr>\n",
       "    <tr>\n",
       "      <th>STOLEN VEHICLE</th>\n",
       "      <td>05/30/2025 12:00:00 AM</td>\n",
       "      <td>POINT (-122.26213 37.81694)</td>\n",
       "    </tr>\n",
       "    <tr>\n",
       "      <th>STOLEN VEHICLE</th>\n",
       "      <td>04/12/2025 02:11:00 PM</td>\n",
       "      <td>POINT (-122.19408 37.75015)</td>\n",
       "    </tr>\n",
       "    <tr>\n",
       "      <th>WEAPONS</th>\n",
       "      <td>05/15/2025 02:50:00 PM</td>\n",
       "      <td>POINT (-122.23877 37.78511)</td>\n",
       "    </tr>\n",
       "  </tbody>\n",
       "</table>\n",
       "<p>11217 rows × 2 columns</p>\n",
       "</div>"
      ],
      "text/plain": [
       "                                 DATETIME                     Location\n",
       "CRIMETYPE                                                             \n",
       "VANDALISM          03/17/2025 02:10:00 PM                          NaN\n",
       "PETTY THEFT        03/17/2025 07:00:00 AM  POINT (-122.18566 37.76508)\n",
       "PETTY THEFT        04/07/2025 12:00:00 AM                          NaN\n",
       "PETTY THEFT        03/19/2025 11:30:00 PM   POINT (-122.2106 37.76353)\n",
       "PETTY THEFT        03/18/2025 12:00:00 PM  POINT (-122.22443 37.78225)\n",
       "...                                   ...                          ...\n",
       "ROBBERY            03/26/2025 07:52:00 PM  POINT (-122.21636 37.77357)\n",
       "DOMESTIC VIOLENCE  05/31/2025 12:00:00 PM  POINT (-122.26244 37.84323)\n",
       "STOLEN VEHICLE     05/30/2025 12:00:00 AM  POINT (-122.26213 37.81694)\n",
       "STOLEN VEHICLE     04/12/2025 02:11:00 PM  POINT (-122.19408 37.75015)\n",
       "WEAPONS            05/15/2025 02:50:00 PM  POINT (-122.23877 37.78511)\n",
       "\n",
       "[11217 rows x 2 columns]"
      ]
     },
     "execution_count": 307,
     "metadata": {},
     "output_type": "execute_result"
    }
   ],
   "source": [
    "# setting index 'crimetype' as the initial column for more readability\n",
    "df = df.set_index('CRIMETYPE')\n",
    "df"
   ]
  },
  {
   "cell_type": "code",
   "execution_count": 308,
   "id": "a3fd9096555133c5",
   "metadata": {
    "ExecuteTime": {
     "end_time": "2025-06-16T06:33:33.666325Z",
     "start_time": "2025-06-16T06:33:33.662970Z"
    }
   },
   "outputs": [
    {
     "data": {
      "text/plain": [
       "Index(['DATETIME', 'Location'], dtype='object')"
      ]
     },
     "execution_count": 308,
     "metadata": {},
     "output_type": "execute_result"
    }
   ],
   "source": [
    "df.columns"
   ]
  },
  {
   "cell_type": "code",
   "execution_count": 309,
   "id": "ca0a6f92b5da62e7",
   "metadata": {
    "ExecuteTime": {
     "end_time": "2025-06-16T06:33:33.700692Z",
     "start_time": "2025-06-16T06:33:33.697098Z"
    }
   },
   "outputs": [
    {
     "data": {
      "text/plain": [
       "{'ARSON',\n",
       " 'BRANDISHING',\n",
       " 'BURG - AUTO',\n",
       " 'BURG - COMMERCIAL',\n",
       " 'BURG - OTHER',\n",
       " 'BURG - RESIDENTIAL',\n",
       " 'CHILD ABUSE',\n",
       " 'CURFEW & LOITERING',\n",
       " 'DISORDERLY CONDUCT',\n",
       " 'DOMESTIC VIOLENCE',\n",
       " 'DUI',\n",
       " 'EMBEZZLEMENT',\n",
       " 'FELONY ASSAULT',\n",
       " 'FELONY WARRANT',\n",
       " 'FORCIBLE RAPE',\n",
       " 'FORGERY & COUNTERFEITING',\n",
       " 'FRAUD',\n",
       " 'GRAND THEFT',\n",
       " 'HOMICIDE',\n",
       " 'INCIDENT TYPE',\n",
       " 'KIDNAPPING',\n",
       " 'MISCELLANEOUS TRAFFIC CRIME',\n",
       " 'MISDEMEANOR ASSAULT',\n",
       " 'MISDEMEANOR WARRANT',\n",
       " 'MISSING',\n",
       " 'NARCOTICS',\n",
       " 'OTHER',\n",
       " 'OTHER SEX OFFENSES',\n",
       " 'PETTY THEFT',\n",
       " 'POSSESSION - STOLEN PROPERTY',\n",
       " 'PROSTITUTION',\n",
       " 'RECOVERED O/S STOLEN',\n",
       " 'RECOVERED VEHICLE - OAKLAND STOLEN',\n",
       " 'ROBBERY',\n",
       " 'STOLEN AND RECOVERED VEHICLE',\n",
       " 'STOLEN VEHICLE',\n",
       " 'THREATS',\n",
       " 'VANDALISM',\n",
       " 'WEAPONS',\n",
       " nan}"
      ]
     },
     "execution_count": 309,
     "metadata": {},
     "output_type": "execute_result"
    }
   ],
   "source": [
    "# converting the newly changed column as index to get the types of crimes.\n",
    "# set() was used to get the full list of types of crimes WITHOUT repetition.\n",
    "# len() used to obtain the amount of types of crimes in total [comes out to 40] but not really needed.\n",
    "crimetypes = set(df.index)\n",
    "crimetypes\n",
    "# len(crimetypes)"
   ]
  },
  {
   "cell_type": "code",
   "execution_count": 310,
   "id": "e94054e0eeeb6686",
   "metadata": {
    "ExecuteTime": {
     "end_time": "2025-06-16T06:33:33.771213Z",
     "start_time": "2025-06-16T06:33:33.769257Z"
    }
   },
   "outputs": [],
   "source": [
    "# filter out once more to focus solely on the types of crimes relevant to this project and to which most immigrant workers are usually exposed to.\n",
    "# the crimes im considering are those that pose immediate physical danger, economic harm, or mental distress. this, due to the fact that many of these low-paying jobs tend to be minimally staffed or sometimes even a one-person show.\n",
    "# i am not claiming these dropped crimes are not relevant or urgent.\n",
    "# they are, however, less relevant to the main goal unless the project expands and or are difficult to model without ethical/legal considerations."
   ]
  },
  {
   "cell_type": "code",
   "execution_count": 311,
   "id": "953a8cfff1e7df32",
   "metadata": {
    "ExecuteTime": {
     "end_time": "2025-06-16T06:33:33.785304Z",
     "start_time": "2025-06-16T06:33:33.781315Z"
    }
   },
   "outputs": [],
   "source": [
    "crimedrop = ['DOMESTIC VIOLENCE',\n",
    "             'CHILD ABUSE',\n",
    "             'PROSTITUTION',\n",
    "             'EMBEZZLEMENT',\n",
    "             'FORGERY & COUNTERFEITING',\n",
    "             'CURFEW & LOITERING',\n",
    "             'MISDEMEANOR WARRANT',\n",
    "             'FELONY WARRANT',\n",
    "             'MISCELLANEOUS TRAFFIC CRIME',\n",
    "             'OTHER SEX OFFENSES',\n",
    "             'FORCIBLE RAPE',\n",
    "             'OTHER'\n",
    "             ]\n",
    "df = df.drop(crimedrop, axis=0)"
   ]
  },
  {
   "cell_type": "code",
   "execution_count": 312,
   "id": "db04deefad0fd4f",
   "metadata": {
    "ExecuteTime": {
     "end_time": "2025-06-16T06:33:33.800734Z",
     "start_time": "2025-06-16T06:33:33.798183Z"
    }
   },
   "outputs": [
    {
     "data": {
      "text/plain": [
       "(10045, 2)"
      ]
     },
     "execution_count": 312,
     "metadata": {},
     "output_type": "execute_result"
    }
   ],
   "source": [
    "df.shape"
   ]
  },
  {
   "cell_type": "code",
   "execution_count": 320,
   "id": "1e01ac8a6f5ae2c6",
   "metadata": {
    "ExecuteTime": {
     "end_time": "2025-06-16T06:36:07.234125Z",
     "start_time": "2025-06-16T06:36:07.227491Z"
    }
   },
   "outputs": [
    {
     "data": {
      "text/plain": [
       "28"
      ]
     },
     "execution_count": 320,
     "metadata": {},
     "output_type": "execute_result"
    }
   ],
   "source": [
    "newcrimeset = set(df.index)\n",
    "len(newcrimeset)\n",
    "# we have narrowed down to the 28 crimes that immigrants are most likely to be a victim to"
   ]
  },
  {
   "cell_type": "code",
   "execution_count": null,
   "id": "567d6d526afa6182",
   "metadata": {
    "ExecuteTime": {
     "end_time": "2025-06-16T06:33:33.907620Z",
     "start_time": "2025-06-16T06:33:33.905977Z"
    }
   },
   "outputs": [],
   "source": []
  }
 ],
 "metadata": {
  "kernelspec": {
   "display_name": "Python [conda env:base] *",
   "language": "python",
   "name": "conda-base-py"
  },
  "language_info": {
   "codemirror_mode": {
    "name": "ipython",
    "version": 3
   },
   "file_extension": ".py",
   "mimetype": "text/x-python",
   "name": "python",
   "nbconvert_exporter": "python",
   "pygments_lexer": "ipython3",
   "version": "3.12.2"
  }
 },
 "nbformat": 4,
 "nbformat_minor": 5
}
